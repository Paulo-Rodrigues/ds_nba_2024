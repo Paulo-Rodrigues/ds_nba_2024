{
 "cells": [
  {
   "cell_type": "code",
   "execution_count": 1,
   "id": "5e09bd21-fb25-45a6-bda3-5fffc9472480",
   "metadata": {},
   "outputs": [],
   "source": [
    "import pandas as pd"
   ]
  },
  {
   "cell_type": "code",
   "execution_count": 2,
   "id": "961f5caa-1649-4633-962d-62e555ab9982",
   "metadata": {},
   "outputs": [],
   "source": [
    "data = pd.read_csv(\"data.csv\")"
   ]
  },
  {
   "cell_type": "code",
   "execution_count": 6,
   "id": "0db527ce-3bbe-4487-b60b-bc34e9346202",
   "metadata": {},
   "outputs": [
    {
     "data": {
      "text/html": [
       "<div>\n",
       "<style scoped>\n",
       "    .dataframe tbody tr th:only-of-type {\n",
       "        vertical-align: middle;\n",
       "    }\n",
       "\n",
       "    .dataframe tbody tr th {\n",
       "        vertical-align: top;\n",
       "    }\n",
       "\n",
       "    .dataframe thead th {\n",
       "        text-align: right;\n",
       "    }\n",
       "</style>\n",
       "<table border=\"1\" class=\"dataframe\">\n",
       "  <thead>\n",
       "    <tr style=\"text-align: right;\">\n",
       "      <th></th>\n",
       "      <th>Player</th>\n",
       "      <th>Tm</th>\n",
       "      <th>Opp</th>\n",
       "      <th>Res</th>\n",
       "      <th>MP</th>\n",
       "      <th>FG</th>\n",
       "      <th>FGA</th>\n",
       "      <th>FG%</th>\n",
       "      <th>3P</th>\n",
       "      <th>3PA</th>\n",
       "      <th>...</th>\n",
       "      <th>DRB</th>\n",
       "      <th>TRB</th>\n",
       "      <th>AST</th>\n",
       "      <th>STL</th>\n",
       "      <th>BLK</th>\n",
       "      <th>TOV</th>\n",
       "      <th>PF</th>\n",
       "      <th>PTS</th>\n",
       "      <th>GmSc</th>\n",
       "      <th>Data</th>\n",
       "    </tr>\n",
       "  </thead>\n",
       "  <tbody>\n",
       "    <tr>\n",
       "      <th>0</th>\n",
       "      <td>Jayson Tatum</td>\n",
       "      <td>BOS</td>\n",
       "      <td>NYK</td>\n",
       "      <td>W</td>\n",
       "      <td>30.30</td>\n",
       "      <td>14</td>\n",
       "      <td>18</td>\n",
       "      <td>0.778</td>\n",
       "      <td>8</td>\n",
       "      <td>11</td>\n",
       "      <td>...</td>\n",
       "      <td>4</td>\n",
       "      <td>4</td>\n",
       "      <td>10</td>\n",
       "      <td>1</td>\n",
       "      <td>1</td>\n",
       "      <td>1</td>\n",
       "      <td>1</td>\n",
       "      <td>37</td>\n",
       "      <td>38.1</td>\n",
       "      <td>2024-10-22</td>\n",
       "    </tr>\n",
       "    <tr>\n",
       "      <th>1</th>\n",
       "      <td>Anthony Davis</td>\n",
       "      <td>LAL</td>\n",
       "      <td>MIN</td>\n",
       "      <td>W</td>\n",
       "      <td>37.58</td>\n",
       "      <td>11</td>\n",
       "      <td>23</td>\n",
       "      <td>0.478</td>\n",
       "      <td>1</td>\n",
       "      <td>3</td>\n",
       "      <td>...</td>\n",
       "      <td>13</td>\n",
       "      <td>16</td>\n",
       "      <td>4</td>\n",
       "      <td>1</td>\n",
       "      <td>3</td>\n",
       "      <td>1</td>\n",
       "      <td>1</td>\n",
       "      <td>36</td>\n",
       "      <td>34.0</td>\n",
       "      <td>2024-10-22</td>\n",
       "    </tr>\n",
       "    <tr>\n",
       "      <th>2</th>\n",
       "      <td>Derrick White</td>\n",
       "      <td>BOS</td>\n",
       "      <td>NYK</td>\n",
       "      <td>W</td>\n",
       "      <td>26.63</td>\n",
       "      <td>8</td>\n",
       "      <td>13</td>\n",
       "      <td>0.615</td>\n",
       "      <td>6</td>\n",
       "      <td>10</td>\n",
       "      <td>...</td>\n",
       "      <td>3</td>\n",
       "      <td>3</td>\n",
       "      <td>4</td>\n",
       "      <td>1</td>\n",
       "      <td>0</td>\n",
       "      <td>0</td>\n",
       "      <td>1</td>\n",
       "      <td>24</td>\n",
       "      <td>22.4</td>\n",
       "      <td>2024-10-22</td>\n",
       "    </tr>\n",
       "    <tr>\n",
       "      <th>3</th>\n",
       "      <td>Jrue Holiday</td>\n",
       "      <td>BOS</td>\n",
       "      <td>NYK</td>\n",
       "      <td>W</td>\n",
       "      <td>30.52</td>\n",
       "      <td>7</td>\n",
       "      <td>9</td>\n",
       "      <td>0.778</td>\n",
       "      <td>4</td>\n",
       "      <td>6</td>\n",
       "      <td>...</td>\n",
       "      <td>2</td>\n",
       "      <td>4</td>\n",
       "      <td>4</td>\n",
       "      <td>1</td>\n",
       "      <td>0</td>\n",
       "      <td>0</td>\n",
       "      <td>2</td>\n",
       "      <td>18</td>\n",
       "      <td>19.5</td>\n",
       "      <td>2024-10-22</td>\n",
       "    </tr>\n",
       "    <tr>\n",
       "      <th>4</th>\n",
       "      <td>Miles McBride</td>\n",
       "      <td>NYK</td>\n",
       "      <td>BOS</td>\n",
       "      <td>L</td>\n",
       "      <td>25.85</td>\n",
       "      <td>8</td>\n",
       "      <td>10</td>\n",
       "      <td>0.800</td>\n",
       "      <td>4</td>\n",
       "      <td>5</td>\n",
       "      <td>...</td>\n",
       "      <td>0</td>\n",
       "      <td>0</td>\n",
       "      <td>2</td>\n",
       "      <td>0</td>\n",
       "      <td>0</td>\n",
       "      <td>1</td>\n",
       "      <td>1</td>\n",
       "      <td>22</td>\n",
       "      <td>17.8</td>\n",
       "      <td>2024-10-22</td>\n",
       "    </tr>\n",
       "  </tbody>\n",
       "</table>\n",
       "<p>5 rows × 25 columns</p>\n",
       "</div>"
      ],
      "text/plain": [
       "          Player   Tm  Opp Res     MP  FG  FGA    FG%  3P  3PA  ...  DRB  TRB  \\\n",
       "0   Jayson Tatum  BOS  NYK   W  30.30  14   18  0.778   8   11  ...    4    4   \n",
       "1  Anthony Davis  LAL  MIN   W  37.58  11   23  0.478   1    3  ...   13   16   \n",
       "2  Derrick White  BOS  NYK   W  26.63   8   13  0.615   6   10  ...    3    3   \n",
       "3   Jrue Holiday  BOS  NYK   W  30.52   7    9  0.778   4    6  ...    2    4   \n",
       "4  Miles McBride  NYK  BOS   L  25.85   8   10  0.800   4    5  ...    0    0   \n",
       "\n",
       "   AST  STL  BLK  TOV  PF  PTS  GmSc        Data  \n",
       "0   10    1    1    1   1   37  38.1  2024-10-22  \n",
       "1    4    1    3    1   1   36  34.0  2024-10-22  \n",
       "2    4    1    0    0   1   24  22.4  2024-10-22  \n",
       "3    4    1    0    0   2   18  19.5  2024-10-22  \n",
       "4    2    0    0    1   1   22  17.8  2024-10-22  \n",
       "\n",
       "[5 rows x 25 columns]"
      ]
     },
     "execution_count": 6,
     "metadata": {},
     "output_type": "execute_result"
    }
   ],
   "source": [
    "data.head()"
   ]
  },
  {
   "cell_type": "markdown",
   "id": "85a7e76b-cb89-4df1-a565-8c604295df5a",
   "metadata": {},
   "source": [
    "##### Descrição sobre as principais colunas que analisaremos:\n",
    "\n",
    "* player - Nome do jogador\n",
    "* Tm - Time do jogador(Sigla)\n",
    "* Opp - Time contra quem foi o jogo (Sigla)\n",
    "* Res - Resultado do jogo, Vitória(W) ou derrota(L)\n",
    "* FG - Field goals made, arremessos convertidos\n",
    "* FGA - Field goals attempts, arremessos tentados\n",
    "* FG% - Porcentagem de field goals convertidos em relação aos tentados\n",
    "* 3P - Bolas de 3 convertidas\n",
    "* 3PA - bolas de 3 tentadas\n",
    "* 3P% - Porcentagem de bolas de 3 convertidas em relação as tentadas\n",
    "* FT - Lances livres convertidos\n",
    "* FTA - Lances livres tentados\n",
    "* FT% - Porcentagem de lances livres convertidos em relação aos lances livres tentados\n",
    "* TRB - Rebotes totais\n",
    "* AST - Assistencias\n",
    "* STL - Roubos de bola\n",
    "* BLK - Blocks\n",
    "* TOV - Turnovers(desperdícios de bola)\n",
    "* PTS - Pontos feitos pelo jogador\n",
    "* Data - data do jogo"
   ]
  },
  {
   "cell_type": "code",
   "execution_count": 8,
   "id": "8185f689-0057-436b-bbe0-caf97a587f92",
   "metadata": {},
   "outputs": [
    {
     "data": {
      "text/plain": [
       "Index(['Player', 'Tm', 'Opp', 'Res', 'MP', 'FG', 'FGA', 'FG%', '3P', '3PA',\n",
       "       '3P%', 'FT', 'FTA', 'FT%', 'ORB', 'DRB', 'TRB', 'AST', 'STL', 'BLK',\n",
       "       'TOV', 'PF', 'PTS', 'GmSc', 'Data'],\n",
       "      dtype='object')"
      ]
     },
     "execution_count": 8,
     "metadata": {},
     "output_type": "execute_result"
    }
   ],
   "source": [
    "data.columns"
   ]
  },
  {
   "cell_type": "code",
   "execution_count": 11,
   "id": "7589ea0a-00cd-4fc8-bef1-253d50efc17d",
   "metadata": {},
   "outputs": [],
   "source": [
    "# Apenas ordenando por data. Do começo da temporada regular, até o final da regular\n",
    "data = data.sort_values('Data')"
   ]
  },
  {
   "cell_type": "code",
   "execution_count": 19,
   "id": "775b8d73-1f2b-40c3-8d2c-abb21a9017c0",
   "metadata": {},
   "outputs": [
    {
     "name": "stdout",
     "output_type": "stream",
     "text": [
      "<class 'pandas.core.frame.DataFrame'>\n",
      "Index: 16512 entries, 0 to 16511\n",
      "Data columns (total 25 columns):\n",
      " #   Column  Non-Null Count  Dtype  \n",
      "---  ------  --------------  -----  \n",
      " 0   Player  16512 non-null  object \n",
      " 1   Tm      16512 non-null  object \n",
      " 2   Opp     16512 non-null  object \n",
      " 3   Res     16512 non-null  object \n",
      " 4   MP      16512 non-null  float64\n",
      " 5   FG      16512 non-null  int64  \n",
      " 6   FGA     16512 non-null  int64  \n",
      " 7   FG%     16512 non-null  float64\n",
      " 8   3P      16512 non-null  int64  \n",
      " 9   3PA     16512 non-null  int64  \n",
      " 10  3P%     16512 non-null  float64\n",
      " 11  FT      16512 non-null  int64  \n",
      " 12  FTA     16512 non-null  int64  \n",
      " 13  FT%     16512 non-null  float64\n",
      " 14  ORB     16512 non-null  int64  \n",
      " 15  DRB     16512 non-null  int64  \n",
      " 16  TRB     16512 non-null  int64  \n",
      " 17  AST     16512 non-null  int64  \n",
      " 18  STL     16512 non-null  int64  \n",
      " 19  BLK     16512 non-null  int64  \n",
      " 20  TOV     16512 non-null  int64  \n",
      " 21  PF      16512 non-null  int64  \n",
      " 22  PTS     16512 non-null  int64  \n",
      " 23  GmSc    16512 non-null  float64\n",
      " 24  Data    16512 non-null  object \n",
      "dtypes: float64(5), int64(15), object(5)\n",
      "memory usage: 3.3+ MB\n"
     ]
    }
   ],
   "source": [
    "data.info()"
   ]
  },
  {
   "cell_type": "code",
   "execution_count": 27,
   "id": "a3e50505-5fd4-4b06-add8-be51b3dff876",
   "metadata": {},
   "outputs": [
    {
     "data": {
      "text/plain": [
       "1534"
      ]
     },
     "execution_count": 27,
     "metadata": {},
     "output_type": "execute_result"
    }
   ],
   "source": [
    "# total de jogos da temporada regular 1534\n",
    "\n",
    "data.value_counts(['Tm', 'Opp', 'Data']).count()"
   ]
  },
  {
   "cell_type": "code",
   "execution_count": null,
   "id": "e5d80ed8-f932-4d6e-b757-4182f6a1fa2e",
   "metadata": {},
   "outputs": [],
   "source": []
  }
 ],
 "metadata": {
  "kernelspec": {
   "display_name": "Python 3 (ipykernel)",
   "language": "python",
   "name": "python3"
  },
  "language_info": {
   "codemirror_mode": {
    "name": "ipython",
    "version": 3
   },
   "file_extension": ".py",
   "mimetype": "text/x-python",
   "name": "python",
   "nbconvert_exporter": "python",
   "pygments_lexer": "ipython3",
   "version": "3.11.6"
  }
 },
 "nbformat": 4,
 "nbformat_minor": 5
}
